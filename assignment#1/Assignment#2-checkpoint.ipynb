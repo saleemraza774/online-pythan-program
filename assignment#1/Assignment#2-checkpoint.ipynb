{
 "cells": [
  {
   "cell_type": "code",
   "execution_count": null,
   "id": "1fa3a66c",
   "metadata": {},
   "outputs": [],
   "source": [
    "print(\"Enter your five subjects marks\")\n",
    "a,b,c,d,e=int(input()),int(input()),int(input()),int(input()),int(input())\n",
    "if a>=50 and b>=50 and c>=50 and d>=50 and e>=50:\n",
    "    print(\"result: PASS\");\n",
    "    else:\n",
    "        print(\"result: FAIL\");\n",
    "        per=(a+b+c+d+e)/500*100;\n",
    "        "
   ]
  }
 ],
 "metadata": {
  "kernelspec": {
   "display_name": "Python 3",
   "language": "python",
   "name": "python3"
  },
  "language_info": {
   "codemirror_mode": {
    "name": "ipython",
    "version": 3
   },
   "file_extension": ".py",
   "mimetype": "text/x-python",
   "name": "python",
   "nbconvert_exporter": "python",
   "pygments_lexer": "ipython3",
   "version": "3.8.8"
  }
 },
 "nbformat": 4,
 "nbformat_minor": 5
}
